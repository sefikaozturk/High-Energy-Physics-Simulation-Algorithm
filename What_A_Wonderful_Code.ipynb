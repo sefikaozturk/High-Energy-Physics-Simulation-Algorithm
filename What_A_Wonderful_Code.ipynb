{
 "cells": [
  {
   "cell_type": "code",
   "execution_count": 1,
   "metadata": {},
   "outputs": [],
   "source": [
    "import numpy as np\n",
    "# Importing standard Qiskit libraries\n",
    "import qiskit\n",
    "from qiskit import QuantumCircuit, transpile, Aer, IBMQ, QuantumRegister, ClassicalRegister\n",
    "from numpy import pi\n",
    "from qiskit.tools.jupyter import *\n",
    "from qiskit.visualization import *\n",
    "from ibm_quantum_widgets import *\n",
    "\n",
    "# Loading your IBM Quantum account(s)\n",
    "provider = IBMQ.load_account()"
   ]
  },
  {
   "cell_type": "code",
   "execution_count": 2,
   "metadata": {},
   "outputs": [
    {
     "data": {
      "text/plain": [
       "<qiskit.circuit.instructionset.InstructionSet at 0x7f7808594640>"
      ]
     },
     "execution_count": 2,
     "metadata": {},
     "output_type": "execute_result"
    }
   ],
   "source": [
    "reg_p = QuantumRegister(1, 'p')\n",
    "reg_h = QuantumRegister(1, 'h')\n",
    "reg_e = QuantumRegister(1, 'e')\n",
    "reg_n = QuantumRegister(1, 'n')\n",
    "creg_c = ClassicalRegister(1, 'c')\n",
    "circuit = QuantumCircuit(reg_p, reg_h, reg_e, reg_n, creg_c)\n",
    "\n",
    "#rotation\n",
    "circuit.ry(pi/4, reg_p)\n",
    "\n",
    "#U_count\n",
    "circuit.cx(reg_p, reg_n)"
   ]
  },
  {
   "cell_type": "code",
   "execution_count": 3,
   "metadata": {},
   "outputs": [
    {
     "data": {
      "text/plain": [
       "<qiskit.circuit.instructionset.InstructionSet at 0x7f776eff6250>"
      ]
     },
     "execution_count": 3,
     "metadata": {},
     "output_type": "execute_result"
    }
   ],
   "source": [
    "#did any emissions occur?\n",
    "circuit.cx(reg_e, reg_n)"
   ]
  },
  {
   "cell_type": "code",
   "execution_count": 4,
   "metadata": {},
   "outputs": [
    {
     "data": {
      "text/plain": [
       "<qiskit.circuit.instructionset.InstructionSet at 0x7f780ae08790>"
      ]
     },
     "execution_count": 4,
     "metadata": {},
     "output_type": "execute_result"
    }
   ],
   "source": [
    "#u_h\n",
    "circuit.ccx(reg_p, reg_e, reg_h)\n",
    "circuit.cx(reg_e, reg_n)"
   ]
  },
  {
   "cell_type": "code",
   "execution_count": 5,
   "metadata": {},
   "outputs": [
    {
     "data": {
      "text/plain": [
       "<qiskit.circuit.instructionset.InstructionSet at 0x7f7808594850>"
      ]
     },
     "execution_count": 5,
     "metadata": {},
     "output_type": "execute_result"
    }
   ],
   "source": [
    "#u_p\n",
    "circuit.cx(reg_p, reg_h)"
   ]
  },
  {
   "cell_type": "code",
   "execution_count": 6,
   "metadata": {},
   "outputs": [
    {
     "data": {
      "text/plain": [
       "<qiskit.circuit.instructionset.InstructionSet at 0x7f776eff6100>"
      ]
     },
     "execution_count": 6,
     "metadata": {},
     "output_type": "execute_result"
    }
   ],
   "source": [
    "#rotation\n",
    "circuit.ry((3/4)*pi, reg_p)"
   ]
  },
  {
   "cell_type": "code",
   "execution_count": 7,
   "metadata": {},
   "outputs": [
    {
     "data": {
      "image/png": "[encoded data removed]",
      "text/plain": [
       "<Figure size 504x360 with 1 Axes>"
      ]
     },
     "metadata": {},
     "output_type": "display_data"
    }
   ],
   "source": [
    "backend = qiskit.Aer.get_backend('statevector_simulator')\n",
    "job = qiskit.execute(circuit, backend)\n",
    "result = job.result()\n",
    "counts = result.get_counts(circuit)\n",
    "graph = qiskit.visualization.plot_histogram(counts)\n",
    "\n",
    "display(graph)"
   ]
  },
  {
   "cell_type": "code",
   "execution_count": 8,
   "metadata": {},
   "outputs": [
    {
     "data": {
      "image/png": "[encoded data removed]",
      "text/plain": [
       "<Figure size 447.652x325.08 with 1 Axes>"
      ]
     },
     "execution_count": 8,
     "metadata": {},
     "output_type": "execute_result"
    }
   ],
   "source": [
    "circuit.draw()"
   ]
  },
  {
   "cell_type": "code",
   "execution_count": null,
   "metadata": {},
   "outputs": [],
   "source": []
  }
 ],
 "metadata": {
  "kernelspec": {
   "display_name": "Python 3",
   "language": "python",
   "name": "python3"
  },
  "language_info": {
   "codemirror_mode": {
    "name": "ipython",
    "version": 3
   },
   "file_extension": ".py",
   "mimetype": "text/x-python",
   "name": "python",
   "nbconvert_exporter": "python",
   "pygments_lexer": "ipython3",
   "version": "3.8.8"
  },
  "widgets": {
   "application/vnd.jupyter.widget-state+json": {
    "state": {
     "009e7470049748259064f9c2955b4aff": {
      "model_module": "@quantum/ibm-q-lab-widgets",
      "model_module_version": "^1.0.3",
      "model_name": "CircuitComposerModel",
      "state": {
       "_model_module_version": "^1.0.3",
       "_view_module_version": "^1.0.3",
       "circuit": "\"OPENQASM 2.0;\\ninclude \\\"qelib1.inc\\\";\\n\\nqreg q[3];\\ncreg c[3];\\n\\n\"",
       "editable": true,
       "layout": "IPY_MODEL_a10e2f4d1f5249758491a18386e32298",
       "qiskit_code_cell_index": -1
      }
     },
     "015f9c1bbf9746c8b7d7a5501c7d923f": {
      "model_module": "@jupyter-widgets/controls",
      "model_module_version": "1.5.0",
      "model_name": "HTMLModel",
      "state": {
       "layout": "IPY_MODEL_2aaf8fa03e5847ebb2e724fd9bc0686e",
       "style": "IPY_MODEL_209a9136e108429f8b839ba2950b3925",
       "value": "<h5>Status</h5>"
      }
     },
     "057f55543dab4eeb8582f2e88a5b5d24": {
      "model_module": "@jupyter-widgets/controls",
      "model_module_version": "1.5.0",
      "model_name": "DescriptionStyleModel",
      "state": {
       "description_width": ""
      }
     },
     "09a4e99d8ae647eb94f455ea5f29e381": {
      "model_module": "@jupyter-widgets/controls",
      "model_module_version": "1.5.0",
      "model_name": "DescriptionStyleModel",
      "state": {
       "description_width": ""
      }
     },
     "09ff0a8db568466a8080f531802b0e25": {
      "model_module": "@jupyter-widgets/base",
      "model_module_version": "1.2.0",
      "model_name": "LayoutModel",
      "state": {
       "width": "70px"
      }
     },
     "0b64adf0b0b24e21a14bb72684dc6f19": {
      "model_module": "@jupyter-widgets/controls",
      "model_module_version": "1.5.0",
      "model_name": "DescriptionStyleModel",
      "state": {
       "description_width": ""
      }
     },
     "13f9142e488c42d0ac6e3bbbbee25d6e": {
      "model_module": "@jupyter-widgets/controls",
      "model_module_version": "1.5.0",
      "model_name": "DescriptionStyleModel",
      "state": {
       "description_width": ""
      }
     },
     "1558e2cc9e5b4b65960fc56308c331c1": {
      "model_module": "@jupyter-widgets/base",
      "model_module_version": "1.2.0",
      "model_name": "LayoutModel",
      "state": {
       "width": "145px"
      }
     },
     "18f3d2186c8642f092910878eb9ae21f": {
      "model_module": "@jupyter-widgets/controls",
      "model_module_version": "1.5.0",
      "model_name": "DescriptionStyleModel",
      "state": {
       "description_width": ""
      }
     },
     "209a9136e108429f8b839ba2950b3925": {
      "model_module": "@jupyter-widgets/controls",
      "model_module_version": "1.5.0",
      "model_name": "DescriptionStyleModel",
      "state": {
       "description_width": ""
      }
     },
     "21a17439a91248d0b32effe242e2fb9d": {
      "model_module": "@jupyter-widgets/base",
      "model_module_version": "1.2.0",
      "model_name": "LayoutModel",
      "state": {
       "margin": "0px 0px 10px 0px"
      }
     },
     "227c787aeb28407c8ff63f3a6d0b5b96": {
      "model_module": "@jupyter-widgets/base",
      "model_module_version": "1.2.0",
      "model_name": "LayoutModel",
      "state": {
       "grid_area": "right",
       "padding": "0px 0px 0px 0px",
       "width": "70px"
      }
     },
     "22e3ef8a9639450997426bce79277b8b": {
      "model_module": "@jupyter-widgets/controls",
      "model_module_version": "1.5.0",
      "model_name": "HTMLModel",
      "state": {
       "layout": "IPY_MODEL_f3c0b24707124ac5ababbf41c7d8f417",
       "style": "IPY_MODEL_ce2637493646436c854bb0992dbd37a7",
       "value": "<h5>Status</h5>"
      }
     },
     "279d39f936ee4a16af5004d92eca0658": {
      "model_module": "@jupyter-widgets/controls",
      "model_module_version": "1.5.0",
      "model_name": "HTMLModel",
      "state": {
       "layout": "IPY_MODEL_c885d7df9fca4518948630f8a5e55a0d",
       "style": "IPY_MODEL_32335524c92746cba7245826d1f1c221",
       "value": "<h5>Backend</h5>"
      }
     },
     "2aaf8fa03e5847ebb2e724fd9bc0686e": {
      "model_module": "@jupyter-widgets/base",
      "model_module_version": "1.2.0",
      "model_name": "LayoutModel",
      "state": {
       "width": "95px"
      }
     },
     "2d581dfee23b4ee995bc4577b60f3b49": {
      "model_module": "@jupyter-widgets/base",
      "model_module_version": "1.2.0",
      "model_name": "LayoutModel",
      "state": {
       "margin": "0px 0px 0px 37px",
       "width": "600px"
      }
     },
     "30c5bcc71ffb40f085bfb84e1ed4c1ca": {
      "model_module": "@jupyter-widgets/controls",
      "model_module_version": "1.5.0",
      "model_name": "DescriptionStyleModel",
      "state": {
       "description_width": ""
      }
     },
     "32335524c92746cba7245826d1f1c221": {
      "model_module": "@jupyter-widgets/controls",
      "model_module_version": "1.5.0",
      "model_name": "DescriptionStyleModel",
      "state": {
       "description_width": ""
      }
     },
     "3373b144071d4486ab9148dc2ab16545": {
      "model_module": "@jupyter-widgets/controls",
      "model_module_version": "1.5.0",
      "model_name": "HBoxModel",
      "state": {
       "children": [
        "IPY_MODEL_7bdf2695f0484676a1e49e89949c806a",
        "IPY_MODEL_78a75d6d95f646c0b9a802abc48aac03",
        "IPY_MODEL_cd10045b7a9a4c5a942ccd9ef79368a1",
        "IPY_MODEL_3742eeaaa7e94db3bfaaa23be9addc47",
        "IPY_MODEL_b8d901ced95f4d919bb6ed985e51f1b2"
       ],
       "layout": "IPY_MODEL_58daa5c5566c4b57a59c085806c094db"
      }
     },
     "3742eeaaa7e94db3bfaaa23be9addc47": {
      "model_module": "@jupyter-widgets/controls",
      "model_module_version": "1.5.0",
      "model_name": "HTMLModel",
      "state": {
       "layout": "IPY_MODEL_82dd6eabb776453e926b0a538645cbe6",
       "style": "IPY_MODEL_057f55543dab4eeb8582f2e88a5b5d24",
       "value": "<h5>Queue</h5>"
      }
     },
     "3813d60fee6a4e49800a8cc530f2d394": {
      "model_module": "@jupyter-widgets/controls",
      "model_module_version": "1.5.0",
      "model_name": "ButtonStyleModel",
      "state": {}
     },
     "3b059633e4e3402eb6c22a39bb0dcb9f": {
      "model_module": "@jupyter-widgets/base",
      "model_module_version": "1.2.0",
      "model_name": "LayoutModel",
      "state": {
       "grid_area": "right",
       "padding": "0px 0px 0px 0px",
       "width": "70px"
      }
     },
     "3e730c5717394bb1a40f02ce0a411811": {
      "model_module": "@jupyter-widgets/controls",
      "model_module_version": "1.5.0",
      "model_name": "ButtonModel",
      "state": {
       "button_style": "primary",
       "description": "Clear",
       "layout": "IPY_MODEL_a5da280ff16f428084e62149c66c334d",
       "style": "IPY_MODEL_3813d60fee6a4e49800a8cc530f2d394"
      }
     },
     "407e83a588be41cca21e41be826ba780": {
      "model_module": "@jupyter-widgets/controls",
      "model_module_version": "1.5.0",
      "model_name": "GridBoxModel",
      "state": {
       "children": [
        "IPY_MODEL_4b332160c6a44bf79fe2f54c8c074483"
       ],
       "layout": "IPY_MODEL_cfc77cd5dd694822aa859322f5b260a8"
      }
     },
     "42bcd42b241046d8ac73947e10f9f4fb": {
      "model_module": "@jupyter-widgets/controls",
      "model_module_version": "1.5.0",
      "model_name": "HBoxModel",
      "state": {
       "children": [
        "IPY_MODEL_55ffd065c899475b860eb8137e30748a",
        "IPY_MODEL_ed525edf73854903a12d1b4f2a698e0f",
        "IPY_MODEL_79a02fc4bedf47ebac9b8c4888cb3000",
        "IPY_MODEL_5ee2035acc92463bbe7386128c46cf4f",
        "IPY_MODEL_97caccddc8ad484cbc11c744f7b6d63b"
       ],
       "layout": "IPY_MODEL_ca23ce7c94104dac88f1084e009bef35"
      }
     },
     "46023445bff04840ad4feeffce9213b9": {
      "model_module": "@jupyter-widgets/base",
      "model_module_version": "1.2.0",
      "model_name": "LayoutModel",
      "state": {
       "width": "145px"
      }
     },
     "46be6c654747459380fecd2d5a3cc643": {
      "model_module": "@jupyter-widgets/controls",
      "model_module_version": "1.5.0",
      "model_name": "HTMLModel",
      "state": {
       "layout": "IPY_MODEL_5eb1201897164819a7f2d7745de3643b",
       "style": "IPY_MODEL_ae27210ed7484947999b3fa5b011e6d0",
       "value": "<h5>Queue</h5>"
      }
     },
     "4b332160c6a44bf79fe2f54c8c074483": {
      "model_module": "@jupyter-widgets/controls",
      "model_module_version": "1.5.0",
      "model_name": "ButtonModel",
      "state": {
       "button_style": "primary",
       "description": "Clear",
       "layout": "IPY_MODEL_3b059633e4e3402eb6c22a39bb0dcb9f",
       "style": "IPY_MODEL_c6eb0f3f08fe4303aca457447cbd03fc"
      }
     },
     "4c82279559ea4f0d8a767de7f7a8ab71": {
      "model_module": "@jupyter-widgets/controls",
      "model_module_version": "1.5.0",
      "model_name": "DescriptionStyleModel",
      "state": {
       "description_width": ""
      }
     },
     "4ca38a9bc24a4c418a11c477cf45af63": {
      "model_module": "@jupyter-widgets/controls",
      "model_module_version": "1.5.0",
      "model_name": "GridBoxModel",
      "state": {
       "children": [
        "IPY_MODEL_3e730c5717394bb1a40f02ce0a411811"
       ],
       "layout": "IPY_MODEL_dd24e4f9850e47ce8999a61cb74efff6"
      }
     },
     "4d5b04f2c6594006ab508a4df92cff79": {
      "model_module": "@jupyter-widgets/controls",
      "model_module_version": "1.5.0",
      "model_name": "HTMLModel",
      "state": {
       "layout": "IPY_MODEL_9cae7ad96c704cba8c300011ced7de95",
       "style": "IPY_MODEL_c2c78392b0a94891b2498e8a57cbbb92",
       "value": "<p style='font-family: IBM Plex Sans, Arial, Helvetica, sans-serif; font-size: 20px; font-weight: medium;'>Circuit Properties</p>"
      }
     },
     "4d9248ed9f83486f8e848d6a0479254a": {
      "model_module": "@jupyter-widgets/controls",
      "model_module_version": "1.5.0",
      "model_name": "ButtonStyleModel",
      "state": {}
     },
     "5185c6f29a2d44b4b00a233fa54840fb": {
      "model_module": "@jupyter-widgets/base",
      "model_module_version": "1.2.0",
      "model_name": "LayoutModel",
      "state": {}
     },
     "532794a87cdc4dc989dc68ea00303d57": {
      "model_module": "@jupyter-widgets/base",
      "model_module_version": "1.2.0",
      "model_name": "LayoutModel",
      "state": {
       "width": "190px"
      }
     },
     "550ca0a7c3f64c41a1d82d5102feaf4f": {
      "model_module": "@jupyter-widgets/controls",
      "model_module_version": "1.5.0",
      "model_name": "DescriptionStyleModel",
      "state": {
       "description_width": ""
      }
     },
     "55ffd065c899475b860eb8137e30748a": {
      "model_module": "@jupyter-widgets/controls",
      "model_module_version": "1.5.0",
      "model_name": "HTMLModel",
      "state": {
       "layout": "IPY_MODEL_74c1d11117174d7cb2cd235614af398d",
       "style": "IPY_MODEL_aafdd81102624121b8a11ae0e55c45a0",
       "value": "<h5>Job ID</h5>"
      }
     },
     "5667afccf51a4007b1688a2f366360a8": {
      "model_module": "@jupyter-widgets/base",
      "model_module_version": "1.2.0",
      "model_name": "LayoutModel",
      "state": {
       "grid_area": "right",
       "padding": "0px 0px 0px 0px",
       "width": "70px"
      }
     },
     "58daa5c5566c4b57a59c085806c094db": {
      "model_module": "@jupyter-widgets/base",
      "model_module_version": "1.2.0",
      "model_name": "LayoutModel",
      "state": {
       "margin": "0px 0px 0px 37px",
       "width": "600px"
      }
     },
     "59282052bada40c78151ebbd6ef073d6": {
      "model_module": "@jupyter-widgets/base",
      "model_module_version": "1.2.0",
      "model_name": "LayoutModel",
      "state": {
       "width": "190px"
      }
     },
     "5b765e75740549f0b169bfe06fa54f53": {
      "model_module": "@jupyter-widgets/base",
      "model_module_version": "1.2.0",
      "model_name": "LayoutModel",
      "state": {
       "grid_template_areas": "\n                                       \". . . . right \"\n                                        ",
       "grid_template_columns": "20% 20% 20% 20% 20%",
       "width": "100%"
      }
     },
     "5eb1201897164819a7f2d7745de3643b": {
      "model_module": "@jupyter-widgets/base",
      "model_module_version": "1.2.0",
      "model_name": "LayoutModel",
      "state": {
       "width": "70px"
      }
     },
     "5ee2035acc92463bbe7386128c46cf4f": {
      "model_module": "@jupyter-widgets/controls",
      "model_module_version": "1.5.0",
      "model_name": "HTMLModel",
      "state": {
       "layout": "IPY_MODEL_cdd9457e52de4aa8847bbd5ea0085ff3",
       "style": "IPY_MODEL_89a39a1cd6ba401f96dd21b1cb5da3b1",
       "value": "<h5>Queue</h5>"
      }
     },
     "5f2bfe2c22f2444e83662e57c9db0c15": {
      "model_module": "@quantum/ibm-q-lab-widgets",
      "model_module_version": "^1.0.3",
      "model_name": "CircuitComposerModel",
      "state": {
       "_model_module_version": "^1.0.3",
       "_view_module_version": "^1.0.3",
       "circuit": "\"OPENQASM 2.0;\\ninclude \\\"qelib1.inc\\\";\\n\\nqreg q[3];\\ncreg c[3];\\n\\n\"",
       "editable": true,
       "layout": "IPY_MODEL_ad2a235371c3480f8ae474ab92353a1f",
       "qiskit_code_cell_index": -1
      }
     },
     "6706f1fcfe9640a18726a35180ad28c2": {
      "model_module": "@jupyter-widgets/controls",
      "model_module_version": "1.5.0",
      "model_name": "HBoxModel",
      "state": {
       "children": [
        "IPY_MODEL_6e9a03a595a248bf871def214330a3c8",
        "IPY_MODEL_279d39f936ee4a16af5004d92eca0658",
        "IPY_MODEL_015f9c1bbf9746c8b7d7a5501c7d923f",
        "IPY_MODEL_46be6c654747459380fecd2d5a3cc643",
        "IPY_MODEL_da20b3aefd6e499d99ef5b3c214b60b7"
       ],
       "layout": "IPY_MODEL_2d581dfee23b4ee995bc4577b60f3b49"
      }
     },
     "697af6013aa6418fae828c528572255a": {
      "model_module": "@jupyter-widgets/controls",
      "model_module_version": "1.5.0",
      "model_name": "HTMLModel",
      "state": {
       "layout": "IPY_MODEL_c17f338b28194510a8367d3dabde1c50",
       "style": "IPY_MODEL_18f3d2186c8642f092910878eb9ae21f",
       "value": "<p style='font-family: IBM Plex Sans, Arial, Helvetica, sans-serif; font-size: 20px; font-weight: medium;'>Circuit Properties</p>"
      }
     },
     "6a1a472c8df646e89946b2a0bf7aff16": {
      "model_module": "@jupyter-widgets/controls",
      "model_module_version": "1.5.0",
      "model_name": "ButtonModel",
      "state": {
       "button_style": "primary",
       "description": "Clear",
       "layout": "IPY_MODEL_5667afccf51a4007b1688a2f366360a8",
       "style": "IPY_MODEL_4d9248ed9f83486f8e848d6a0479254a"
      }
     },
     "6cb2ebe39f664660bb82419382f30033": {
      "model_module": "@quantum/ibm-q-lab-widgets",
      "model_module_version": "^1.0.3",
      "model_name": "CircuitComposerModel",
      "state": {
       "_model_module_version": "^1.0.3",
       "_view_module_version": "^1.0.3",
       "circuit": "\"OPENQASM 2.0;\\ninclude \\\"qelib1.inc\\\";\\n\\nqreg q[3];\\ncreg c[3];\\n\\n\"",
       "editable": true,
       "layout": "IPY_MODEL_f5193e852fff448fb0a741c2f2511c7b",
       "qiskit_code_cell_index": -1
      }
     },
     "6e80381cea22410ba5bfc998129517ee": {
      "model_module": "@jupyter-widgets/controls",
      "model_module_version": "1.5.0",
      "model_name": "HTMLModel",
      "state": {
       "layout": "IPY_MODEL_21a17439a91248d0b32effe242e2fb9d",
       "style": "IPY_MODEL_f9f5d6dbabba404298795d3d47da38eb",
       "value": "<p style='font-family: IBM Plex Sans, Arial, Helvetica, sans-serif; font-size: 20px; font-weight: medium;'>Circuit Properties</p>"
      }
     },
     "6e9a03a595a248bf871def214330a3c8": {
      "model_module": "@jupyter-widgets/controls",
      "model_module_version": "1.5.0",
      "model_name": "HTMLModel",
      "state": {
       "layout": "IPY_MODEL_59282052bada40c78151ebbd6ef073d6",
       "style": "IPY_MODEL_30c5bcc71ffb40f085bfb84e1ed4c1ca",
       "value": "<h5>Job ID</h5>"
      }
     },
     "70e9a49696e84e1d9d4e948aa7f04766": {
      "model_module": "@jupyter-widgets/controls",
      "model_module_version": "1.5.0",
      "model_name": "ButtonModel",
      "state": {
       "button_style": "primary",
       "description": "Clear",
       "layout": "IPY_MODEL_227c787aeb28407c8ff63f3a6d0b5b96",
       "style": "IPY_MODEL_d5b111d129df47b7ae9c581edd2da4d5"
      }
     },
     "74c1d11117174d7cb2cd235614af398d": {
      "model_module": "@jupyter-widgets/base",
      "model_module_version": "1.2.0",
      "model_name": "LayoutModel",
      "state": {
       "width": "190px"
      }
     },
     "77619d4f328c4a5d8c596e489af26b5a": {
      "model_module": "@jupyter-widgets/controls",
      "model_module_version": "1.5.0",
      "model_name": "DescriptionStyleModel",
      "state": {
       "description_width": ""
      }
     },
     "786db1074fec40218221e8e3655b8456": {
      "model_module": "@jupyter-widgets/controls",
      "model_module_version": "1.5.0",
      "model_name": "DescriptionStyleModel",
      "state": {
       "description_width": ""
      }
     },
     "78a75d6d95f646c0b9a802abc48aac03": {
      "model_module": "@jupyter-widgets/controls",
      "model_module_version": "1.5.0",
      "model_name": "HTMLModel",
      "state": {
       "layout": "IPY_MODEL_46023445bff04840ad4feeffce9213b9",
       "style": "IPY_MODEL_ccca24c423424fb788aae93b72ca1def",
       "value": "<h5>Backend</h5>"
      }
     },
     "79a02fc4bedf47ebac9b8c4888cb3000": {
      "model_module": "@jupyter-widgets/controls",
      "model_module_version": "1.5.0",
      "model_name": "HTMLModel",
      "state": {
       "layout": "IPY_MODEL_dfd37ac5d480402fbfc85b8842161a68",
       "style": "IPY_MODEL_550ca0a7c3f64c41a1d82d5102feaf4f",
       "value": "<h5>Status</h5>"
      }
     },
     "7a3e17b6f6344c96888e744daefbd6a7": {
      "model_module": "@jupyter-widgets/controls",
      "model_module_version": "1.5.0",
      "model_name": "DescriptionStyleModel",
      "state": {
       "description_width": ""
      }
     },
     "7b044153f9114740b278d9e7837dd0f8": {
      "model_module": "@jupyter-widgets/controls",
      "model_module_version": "1.5.0",
      "model_name": "HTMLModel",
      "state": {
       "layout": "IPY_MODEL_09ff0a8db568466a8080f531802b0e25",
       "style": "IPY_MODEL_8f9f42aaf9164639ab7ad9d2c59c7c63",
       "value": "<h5>Queue</h5>"
      }
     },
     "7bdf2695f0484676a1e49e89949c806a": {
      "model_module": "@jupyter-widgets/controls",
      "model_module_version": "1.5.0",
      "model_name": "HTMLModel",
      "state": {
       "layout": "IPY_MODEL_532794a87cdc4dc989dc68ea00303d57",
       "style": "IPY_MODEL_0b64adf0b0b24e21a14bb72684dc6f19",
       "value": "<h5>Job ID</h5>"
      }
     },
     "82dd6eabb776453e926b0a538645cbe6": {
      "model_module": "@jupyter-widgets/base",
      "model_module_version": "1.2.0",
      "model_name": "LayoutModel",
      "state": {
       "width": "70px"
      }
     },
     "857c024207e54645a824d7cfdb1df511": {
      "model_module": "@jupyter-widgets/controls",
      "model_module_version": "1.5.0",
      "model_name": "DescriptionStyleModel",
      "state": {
       "description_width": ""
      }
     },
     "8727aa6d4fe84d6985eab5acc2c606b5": {
      "model_module": "@jupyter-widgets/base",
      "model_module_version": "1.2.0",
      "model_name": "LayoutModel",
      "state": {}
     },
     "89a39a1cd6ba401f96dd21b1cb5da3b1": {
      "model_module": "@jupyter-widgets/controls",
      "model_module_version": "1.5.0",
      "model_name": "DescriptionStyleModel",
      "state": {
       "description_width": ""
      }
     },
     "8cf92d09a61e4f399024d016d8e0668e": {
      "model_module": "@jupyter-widgets/controls",
      "model_module_version": "1.5.0",
      "model_name": "HBoxModel",
      "state": {
       "children": [
        "IPY_MODEL_c986faa26ab14f43aabdcf6fb7438bc0",
        "IPY_MODEL_9bfb7e62d5964fa5a9259aba6b7cc1d7",
        "IPY_MODEL_22e3ef8a9639450997426bce79277b8b",
        "IPY_MODEL_7b044153f9114740b278d9e7837dd0f8",
        "IPY_MODEL_b89b837adeba49268439e82226f43d1f"
       ],
       "layout": "IPY_MODEL_db89b25942af40729717827aab1fbdb7"
      }
     },
     "8f93a6eb12384140996b53a2861764a9": {
      "model_module": "@jupyter-widgets/base",
      "model_module_version": "1.2.0",
      "model_name": "LayoutModel",
      "state": {}
     },
     "8f9f42aaf9164639ab7ad9d2c59c7c63": {
      "model_module": "@jupyter-widgets/controls",
      "model_module_version": "1.5.0",
      "model_name": "DescriptionStyleModel",
      "state": {
       "description_width": ""
      }
     },
     "942de1c208b847f597a794b94bea3f9e": {
      "model_module": "@quantum/ibm-q-lab-widgets",
      "model_module_version": "^1.0.3",
      "model_name": "CircuitComposerModel",
      "state": {
       "_model_module_version": "^1.0.3",
       "_view_module_version": "^1.0.3",
       "circuit": "\"OPENQASM 2.0;\\ninclude \\\"qelib1.inc\\\";\\n\\nqreg q[3];\\ncreg c[3];\\n\\n\"",
       "editable": true,
       "layout": "IPY_MODEL_5185c6f29a2d44b4b00a233fa54840fb",
       "qiskit_code_cell_index": -1
      }
     },
     "97caccddc8ad484cbc11c744f7b6d63b": {
      "model_module": "@jupyter-widgets/controls",
      "model_module_version": "1.5.0",
      "model_name": "HTMLModel",
      "state": {
       "layout": "IPY_MODEL_ffda2dac447b43e5b7ad89515ce91d1a",
       "style": "IPY_MODEL_786db1074fec40218221e8e3655b8456",
       "value": "<h5>Message</h5>"
      }
     },
     "9bfb7e62d5964fa5a9259aba6b7cc1d7": {
      "model_module": "@jupyter-widgets/controls",
      "model_module_version": "1.5.0",
      "model_name": "HTMLModel",
      "state": {
       "layout": "IPY_MODEL_c00579a337ff425ea2bf8f1c451235eb",
       "style": "IPY_MODEL_13f9142e488c42d0ac6e3bbbbee25d6e",
       "value": "<h5>Backend</h5>"
      }
     },
     "9cae7ad96c704cba8c300011ced7de95": {
      "model_module": "@jupyter-widgets/base",
      "model_module_version": "1.2.0",
      "model_name": "LayoutModel",
      "state": {
       "margin": "0px 0px 10px 0px"
      }
     },
     "9f9bca8ae2dd4b24a61fa96c31f0fa70": {
      "model_module": "@jupyter-widgets/controls",
      "model_module_version": "1.5.0",
      "model_name": "GridBoxModel",
      "state": {
       "children": [
        "IPY_MODEL_70e9a49696e84e1d9d4e948aa7f04766"
       ],
       "layout": "IPY_MODEL_5b765e75740549f0b169bfe06fa54f53"
      }
     },
     "a10e2f4d1f5249758491a18386e32298": {
      "model_module": "@jupyter-widgets/base",
      "model_module_version": "1.2.0",
      "model_name": "LayoutModel",
      "state": {}
     },
     "a2212f85a05d48a8a69f8f12ee919a90": {
      "model_module": "@jupyter-widgets/controls",
      "model_module_version": "1.5.0",
      "model_name": "HTMLModel",
      "state": {
       "layout": "IPY_MODEL_b7ac57192c14471c86d83fb4eb3eee43",
       "style": "IPY_MODEL_4c82279559ea4f0d8a767de7f7a8ab71",
       "value": "<p style='font-family: IBM Plex Sans, Arial, Helvetica, sans-serif; font-size: 20px; font-weight: medium;'>Circuit Properties</p>"
      }
     },
     "a5da280ff16f428084e62149c66c334d": {
      "model_module": "@jupyter-widgets/base",
      "model_module_version": "1.2.0",
      "model_name": "LayoutModel",
      "state": {
       "grid_area": "right",
       "padding": "0px 0px 0px 0px",
       "width": "70px"
      }
     },
     "a9670b4d12e64760a75d61490a39c4aa": {
      "model_module": "@jupyter-widgets/controls",
      "model_module_version": "1.5.0",
      "model_name": "DescriptionStyleModel",
      "state": {
       "description_width": ""
      }
     },
     "aafdd81102624121b8a11ae0e55c45a0": {
      "model_module": "@jupyter-widgets/controls",
      "model_module_version": "1.5.0",
      "model_name": "DescriptionStyleModel",
      "state": {
       "description_width": ""
      }
     },
     "acc0b9357f8840dcb4d8d1d06b691278": {
      "model_module": "@jupyter-widgets/controls",
      "model_module_version": "1.5.0",
      "model_name": "GridBoxModel",
      "state": {
       "children": [
        "IPY_MODEL_6a1a472c8df646e89946b2a0bf7aff16"
       ],
       "layout": "IPY_MODEL_d912f222cb504ebda2ebc4ee07d4cc1e"
      }
     },
     "ad2a235371c3480f8ae474ab92353a1f": {
      "model_module": "@jupyter-widgets/base",
      "model_module_version": "1.2.0",
      "model_name": "LayoutModel",
      "state": {}
     },
     "ae27210ed7484947999b3fa5b011e6d0": {
      "model_module": "@jupyter-widgets/controls",
      "model_module_version": "1.5.0",
      "model_name": "DescriptionStyleModel",
      "state": {
       "description_width": ""
      }
     },
     "b7ac57192c14471c86d83fb4eb3eee43": {
      "model_module": "@jupyter-widgets/base",
      "model_module_version": "1.2.0",
      "model_name": "LayoutModel",
      "state": {
       "margin": "0px 0px 10px 0px"
      }
     },
     "b89b837adeba49268439e82226f43d1f": {
      "model_module": "@jupyter-widgets/controls",
      "model_module_version": "1.5.0",
      "model_name": "HTMLModel",
      "state": {
       "layout": "IPY_MODEL_8727aa6d4fe84d6985eab5acc2c606b5",
       "style": "IPY_MODEL_857c024207e54645a824d7cfdb1df511",
       "value": "<h5>Message</h5>"
      }
     },
     "b8d901ced95f4d919bb6ed985e51f1b2": {
      "model_module": "@jupyter-widgets/controls",
      "model_module_version": "1.5.0",
      "model_name": "HTMLModel",
      "state": {
       "layout": "IPY_MODEL_e77fb018c07b4770a3d3d9239c215e7e",
       "style": "IPY_MODEL_fb87681b0c804058aafa29cc104df17a",
       "value": "<h5>Message</h5>"
      }
     },
     "c00579a337ff425ea2bf8f1c451235eb": {
      "model_module": "@jupyter-widgets/base",
      "model_module_version": "1.2.0",
      "model_name": "LayoutModel",
      "state": {
       "width": "145px"
      }
     },
     "c17f338b28194510a8367d3dabde1c50": {
      "model_module": "@jupyter-widgets/base",
      "model_module_version": "1.2.0",
      "model_name": "LayoutModel",
      "state": {
       "margin": "0px 0px 10px 0px"
      }
     },
     "c2c78392b0a94891b2498e8a57cbbb92": {
      "model_module": "@jupyter-widgets/controls",
      "model_module_version": "1.5.0",
      "model_name": "DescriptionStyleModel",
      "state": {
       "description_width": ""
      }
     },
     "c2e085a6d71b48f2bf86874940fcaad6": {
      "model_module": "@jupyter-widgets/base",
      "model_module_version": "1.2.0",
      "model_name": "LayoutModel",
      "state": {
       "width": "190px"
      }
     },
     "c6eb0f3f08fe4303aca457447cbd03fc": {
      "model_module": "@jupyter-widgets/controls",
      "model_module_version": "1.5.0",
      "model_name": "ButtonStyleModel",
      "state": {}
     },
     "c885d7df9fca4518948630f8a5e55a0d": {
      "model_module": "@jupyter-widgets/base",
      "model_module_version": "1.2.0",
      "model_name": "LayoutModel",
      "state": {
       "width": "145px"
      }
     },
     "c986faa26ab14f43aabdcf6fb7438bc0": {
      "model_module": "@jupyter-widgets/controls",
      "model_module_version": "1.5.0",
      "model_name": "HTMLModel",
      "state": {
       "layout": "IPY_MODEL_c2e085a6d71b48f2bf86874940fcaad6",
       "style": "IPY_MODEL_a9670b4d12e64760a75d61490a39c4aa",
       "value": "<h5>Job ID</h5>"
      }
     },
     "ca23ce7c94104dac88f1084e009bef35": {
      "model_module": "@jupyter-widgets/base",
      "model_module_version": "1.2.0",
      "model_name": "LayoutModel",
      "state": {
       "margin": "0px 0px 0px 37px",
       "width": "600px"
      }
     },
     "ccca24c423424fb788aae93b72ca1def": {
      "model_module": "@jupyter-widgets/controls",
      "model_module_version": "1.5.0",
      "model_name": "DescriptionStyleModel",
      "state": {
       "description_width": ""
      }
     },
     "cd10045b7a9a4c5a942ccd9ef79368a1": {
      "model_module": "@jupyter-widgets/controls",
      "model_module_version": "1.5.0",
      "model_name": "HTMLModel",
      "state": {
       "layout": "IPY_MODEL_d40560fb5ab24796a0cc606bfda83fc2",
       "style": "IPY_MODEL_09a4e99d8ae647eb94f455ea5f29e381",
       "value": "<h5>Status</h5>"
      }
     },
     "cdd9457e52de4aa8847bbd5ea0085ff3": {
      "model_module": "@jupyter-widgets/base",
      "model_module_version": "1.2.0",
      "model_name": "LayoutModel",
      "state": {
       "width": "70px"
      }
     },
     "ce2637493646436c854bb0992dbd37a7": {
      "model_module": "@jupyter-widgets/controls",
      "model_module_version": "1.5.0",
      "model_name": "DescriptionStyleModel",
      "state": {
       "description_width": ""
      }
     },
     "cfc77cd5dd694822aa859322f5b260a8": {
      "model_module": "@jupyter-widgets/base",
      "model_module_version": "1.2.0",
      "model_name": "LayoutModel",
      "state": {
       "grid_template_areas": "\n                                       \". . . . right \"\n                                        ",
       "grid_template_columns": "20% 20% 20% 20% 20%",
       "width": "100%"
      }
     },
     "d0797f63bc7241a89e7e20f329bf52f4": {
      "model_module": "@quantum/ibm-q-lab-widgets",
      "model_module_version": "^1.0.3",
      "model_name": "CircuitComposerModel",
      "state": {
       "_model_module_version": "^1.0.3",
       "_view_module_version": "^1.0.3",
       "circuit": "\"OPENQASM 2.0;\\ninclude \\\"qelib1.inc\\\";\\n\\nqreg q[3];\\ncreg c[3];\\n\\n\"",
       "editable": true,
       "layout": "IPY_MODEL_d8377f3d86ec46e989b1391da2cafe50",
       "qiskit_code_cell_index": -1
      }
     },
     "d40560fb5ab24796a0cc606bfda83fc2": {
      "model_module": "@jupyter-widgets/base",
      "model_module_version": "1.2.0",
      "model_name": "LayoutModel",
      "state": {
       "width": "95px"
      }
     },
     "d5b111d129df47b7ae9c581edd2da4d5": {
      "model_module": "@jupyter-widgets/controls",
      "model_module_version": "1.5.0",
      "model_name": "ButtonStyleModel",
      "state": {}
     },
     "d8377f3d86ec46e989b1391da2cafe50": {
      "model_module": "@jupyter-widgets/base",
      "model_module_version": "1.2.0",
      "model_name": "LayoutModel",
      "state": {}
     },
     "d912f222cb504ebda2ebc4ee07d4cc1e": {
      "model_module": "@jupyter-widgets/base",
      "model_module_version": "1.2.0",
      "model_name": "LayoutModel",
      "state": {
       "grid_template_areas": "\n                                       \". . . . right \"\n                                        ",
       "grid_template_columns": "20% 20% 20% 20% 20%",
       "width": "100%"
      }
     },
     "da20b3aefd6e499d99ef5b3c214b60b7": {
      "model_module": "@jupyter-widgets/controls",
      "model_module_version": "1.5.0",
      "model_name": "HTMLModel",
      "state": {
       "layout": "IPY_MODEL_8f93a6eb12384140996b53a2861764a9",
       "style": "IPY_MODEL_77619d4f328c4a5d8c596e489af26b5a",
       "value": "<h5>Message</h5>"
      }
     },
     "db89b25942af40729717827aab1fbdb7": {
      "model_module": "@jupyter-widgets/base",
      "model_module_version": "1.2.0",
      "model_name": "LayoutModel",
      "state": {
       "margin": "0px 0px 0px 37px",
       "width": "600px"
      }
     },
     "dd24e4f9850e47ce8999a61cb74efff6": {
      "model_module": "@jupyter-widgets/base",
      "model_module_version": "1.2.0",
      "model_name": "LayoutModel",
      "state": {
       "grid_template_areas": "\n                                       \". . . . right \"\n                                        ",
       "grid_template_columns": "20% 20% 20% 20% 20%",
       "width": "100%"
      }
     },
     "dfd37ac5d480402fbfc85b8842161a68": {
      "model_module": "@jupyter-widgets/base",
      "model_module_version": "1.2.0",
      "model_name": "LayoutModel",
      "state": {
       "width": "95px"
      }
     },
     "e77fb018c07b4770a3d3d9239c215e7e": {
      "model_module": "@jupyter-widgets/base",
      "model_module_version": "1.2.0",
      "model_name": "LayoutModel",
      "state": {}
     },
     "ed525edf73854903a12d1b4f2a698e0f": {
      "model_module": "@jupyter-widgets/controls",
      "model_module_version": "1.5.0",
      "model_name": "HTMLModel",
      "state": {
       "layout": "IPY_MODEL_1558e2cc9e5b4b65960fc56308c331c1",
       "style": "IPY_MODEL_7a3e17b6f6344c96888e744daefbd6a7",
       "value": "<h5>Backend</h5>"
      }
     },
     "f3c0b24707124ac5ababbf41c7d8f417": {
      "model_module": "@jupyter-widgets/base",
      "model_module_version": "1.2.0",
      "model_name": "LayoutModel",
      "state": {
       "width": "95px"
      }
     },
     "f5193e852fff448fb0a741c2f2511c7b": {
      "model_module": "@jupyter-widgets/base",
      "model_module_version": "1.2.0",
      "model_name": "LayoutModel",
      "state": {}
     },
     "f9f5d6dbabba404298795d3d47da38eb": {
      "model_module": "@jupyter-widgets/controls",
      "model_module_version": "1.5.0",
      "model_name": "DescriptionStyleModel",
      "state": {
       "description_width": ""
      }
     },
     "fb87681b0c804058aafa29cc104df17a": {
      "model_module": "@jupyter-widgets/controls",
      "model_module_version": "1.5.0",
      "model_name": "DescriptionStyleModel",
      "state": {
       "description_width": ""
      }
     },
     "ffda2dac447b43e5b7ad89515ce91d1a": {
      "model_module": "@jupyter-widgets/base",
      "model_module_version": "1.2.0",
      "model_name": "LayoutModel",
      "state": {}
     }
    },
    "version_major": 2,
    "version_minor": 0
   }
  }
 },
 "nbformat": 4,
 "nbformat_minor": 4
}
